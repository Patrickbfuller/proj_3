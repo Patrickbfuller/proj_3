{
 "cells": [
  {
   "cell_type": "code",
   "execution_count": 1,
   "metadata": {},
   "outputs": [],
   "source": [
    "import youtube_dl"
   ]
  },
  {
   "cell_type": "code",
   "execution_count": 4,
   "metadata": {},
   "outputs": [
    {
     "name": "stdout",
     "output_type": "stream",
     "text": [
      "[youtube] skgASEwlxJ4: Downloading webpage\n",
      "[youtube] skgASEwlxJ4: Downloading video info webpage\n",
      "[youtube] skgASEwlxJ4: Downloading MPD manifest\n",
      "[dashsegments] Total fragments: 52\n",
      "[download] Destination: Patrick Fuller-skgASEwlxJ4.m4a\n",
      "[download] 100% of 3.79MiB in 00:02\n",
      "[ffmpeg] Correcting container in \"Patrick Fuller-skgASEwlxJ4.m4a\"\n",
      "[ffmpeg] Destination: Patrick Fuller-skgASEwlxJ4.mp3\n",
      "Deleting original file Patrick Fuller-skgASEwlxJ4.m4a (pass -k to keep)\n"
     ]
    }
   ],
   "source": [
    "\n",
    "ydl_opts = {\n",
    "    'format': 'bestaudio/best',\n",
    "    'postprocessors': [{\n",
    "        'key': 'FFmpegExtractAudio',\n",
    "        'preferredcodec': 'mp3',\n",
    "        'preferredquality': '192',\n",
    "    }],\n",
    "}\n",
    "with youtube_dl.YoutubeDL(ydl_opts) as ydl:\n",
    "    ydl.download(['https://www.youtube.com/watch?v=skgASEwlxJ4'])"
   ]
  },
  {
   "cell_type": "code",
   "execution_count": null,
   "metadata": {},
   "outputs": [],
   "source": []
  }
 ],
 "metadata": {
  "kernelspec": {
   "display_name": "learn-env",
   "language": "python",
   "name": "learn-env"
  },
  "language_info": {
   "codemirror_mode": {
    "name": "ipython",
    "version": 3
   },
   "file_extension": ".py",
   "mimetype": "text/x-python",
   "name": "python",
   "nbconvert_exporter": "python",
   "pygments_lexer": "ipython3",
   "version": "3.6.6"
  }
 },
 "nbformat": 4,
 "nbformat_minor": 2
}
