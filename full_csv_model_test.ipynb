{
 "cells": [
  {
   "cell_type": "code",
   "execution_count": 13,
   "metadata": {},
   "outputs": [],
   "source": [
    "import pandas as pd\n",
    "import matplotlib.pyplot as plt\n",
    "from sklearn.preprocessing import StandardScaler\n",
    "from sklearn.model_selection import train_test_split, GridSearchCV\n",
    "from sklearn.svm import SVC\n",
    "from sklearn.metrics import hamming_loss, confusion_matrix, jaccard_similarity_score, accuracy_score"
   ]
  },
  {
   "cell_type": "code",
   "execution_count": 2,
   "metadata": {},
   "outputs": [
    {
     "name": "stdout",
     "output_type": "stream",
     "text": [
      "(3822, 21)\n"
     ]
    },
    {
     "data": {
      "text/html": [
       "<div>\n",
       "<style scoped>\n",
       "    .dataframe tbody tr th:only-of-type {\n",
       "        vertical-align: middle;\n",
       "    }\n",
       "\n",
       "    .dataframe tbody tr th {\n",
       "        vertical-align: top;\n",
       "    }\n",
       "\n",
       "    .dataframe thead th {\n",
       "        text-align: right;\n",
       "    }\n",
       "</style>\n",
       "<table border=\"1\" class=\"dataframe\">\n",
       "  <thead>\n",
       "    <tr style=\"text-align: right;\">\n",
       "      <th></th>\n",
       "      <th>name</th>\n",
       "      <th>tempo</th>\n",
       "      <th>beats</th>\n",
       "      <th>chroma_stft</th>\n",
       "      <th>rmse</th>\n",
       "      <th>spec_cent</th>\n",
       "      <th>spec_bw</th>\n",
       "      <th>rolloff</th>\n",
       "      <th>zcr</th>\n",
       "      <th>mfcc_1</th>\n",
       "      <th>...</th>\n",
       "      <th>mfcc_3</th>\n",
       "      <th>mfcc_4</th>\n",
       "      <th>mfcc_5</th>\n",
       "      <th>mfcc_6</th>\n",
       "      <th>mfcc_7</th>\n",
       "      <th>mfcc_8</th>\n",
       "      <th>mfcc_9</th>\n",
       "      <th>mfcc_10</th>\n",
       "      <th>mfcc_11</th>\n",
       "      <th>label</th>\n",
       "    </tr>\n",
       "  </thead>\n",
       "  <tbody>\n",
       "    <tr>\n",
       "      <th>0</th>\n",
       "      <td>Aaron Lewis - 'Country Boy' (Official Video).m...</td>\n",
       "      <td>125.000000</td>\n",
       "      <td>59</td>\n",
       "      <td>0.409949</td>\n",
       "      <td>0.044608</td>\n",
       "      <td>2684.678379</td>\n",
       "      <td>3327.070199</td>\n",
       "      <td>5616.759798</td>\n",
       "      <td>0.054827</td>\n",
       "      <td>150.374682</td>\n",
       "      <td>...</td>\n",
       "      <td>41.741827</td>\n",
       "      <td>-12.544442</td>\n",
       "      <td>28.144194</td>\n",
       "      <td>-13.241323</td>\n",
       "      <td>17.689333</td>\n",
       "      <td>-4.589490</td>\n",
       "      <td>3.226390</td>\n",
       "      <td>-4.043833</td>\n",
       "      <td>4.592962</td>\n",
       "      <td>Country</td>\n",
       "    </tr>\n",
       "    <tr>\n",
       "      <th>1</th>\n",
       "      <td>Aaron Lewis - 'Country Boy' (Official Video).m...</td>\n",
       "      <td>119.680851</td>\n",
       "      <td>58</td>\n",
       "      <td>0.431026</td>\n",
       "      <td>0.053247</td>\n",
       "      <td>2512.620073</td>\n",
       "      <td>3235.770491</td>\n",
       "      <td>4958.476826</td>\n",
       "      <td>0.053470</td>\n",
       "      <td>162.977125</td>\n",
       "      <td>...</td>\n",
       "      <td>29.105995</td>\n",
       "      <td>-7.695438</td>\n",
       "      <td>26.248572</td>\n",
       "      <td>-13.276758</td>\n",
       "      <td>15.348517</td>\n",
       "      <td>1.977714</td>\n",
       "      <td>0.815487</td>\n",
       "      <td>-3.722481</td>\n",
       "      <td>5.629056</td>\n",
       "      <td>Country</td>\n",
       "    </tr>\n",
       "  </tbody>\n",
       "</table>\n",
       "<p>2 rows × 21 columns</p>\n",
       "</div>"
      ],
      "text/plain": [
       "                                                name       tempo  beats  \\\n",
       "0  Aaron Lewis - 'Country Boy' (Official Video).m...  125.000000     59   \n",
       "1  Aaron Lewis - 'Country Boy' (Official Video).m...  119.680851     58   \n",
       "\n",
       "   chroma_stft      rmse    spec_cent      spec_bw      rolloff       zcr  \\\n",
       "0     0.409949  0.044608  2684.678379  3327.070199  5616.759798  0.054827   \n",
       "1     0.431026  0.053247  2512.620073  3235.770491  4958.476826  0.053470   \n",
       "\n",
       "       mfcc_1   ...        mfcc_3     mfcc_4     mfcc_5     mfcc_6     mfcc_7  \\\n",
       "0  150.374682   ...     41.741827 -12.544442  28.144194 -13.241323  17.689333   \n",
       "1  162.977125   ...     29.105995  -7.695438  26.248572 -13.276758  15.348517   \n",
       "\n",
       "     mfcc_8    mfcc_9   mfcc_10   mfcc_11    label  \n",
       "0 -4.589490  3.226390 -4.043833  4.592962  Country  \n",
       "1  1.977714  0.815487 -3.722481  5.629056  Country  \n",
       "\n",
       "[2 rows x 21 columns]"
      ]
     },
     "execution_count": 2,
     "metadata": {},
     "output_type": "execute_result"
    }
   ],
   "source": [
    "df = pd.read_csv('data_3k.csv')\n",
    "print(df.shape)\n",
    "df.head(2)"
   ]
  },
  {
   "cell_type": "code",
   "execution_count": 3,
   "metadata": {},
   "outputs": [],
   "source": [
    "X = df.drop(['name', 'label'],  axis=1).astype(float)\n",
    "genre_map = {g:i for i, g in enumerate(df.label.unique())}\n",
    "y = df.label#.map(genre_map)"
   ]
  },
  {
   "cell_type": "code",
   "execution_count": 4,
   "metadata": {},
   "outputs": [],
   "source": [
    "X_train, X_test, y_train, y_test = train_test_split(X,y, test_size = 0.2, random_state=20)\n",
    "scaler=StandardScaler()\n",
    "scaler.fit(X_train)\n",
    "X_train_scaled = scaler.transform(X_train)\n",
    "X_test_scaled = scaler.transform(X_test)"
   ]
  },
  {
   "cell_type": "code",
   "execution_count": 5,
   "metadata": {},
   "outputs": [],
   "source": [
    "svc = SVC(probability=True)\n",
    "svc.fit(X_train_scaled, y_train);"
   ]
  },
  {
   "cell_type": "code",
   "execution_count": 6,
   "metadata": {},
   "outputs": [],
   "source": [
    "pred_probas = svc.predict_proba(X_test_scaled)\n",
    "preds = svc.predict(X_test_scaled)"
   ]
  },
  {
   "cell_type": "code",
   "execution_count": 7,
   "metadata": {},
   "outputs": [
    {
     "data": {
      "text/plain": [
       "0.24705882352941178"
      ]
     },
     "execution_count": 7,
     "metadata": {},
     "output_type": "execute_result"
    }
   ],
   "source": [
    "hamming_loss(y_test, preds)"
   ]
  },
  {
   "cell_type": "code",
   "execution_count": 8,
   "metadata": {},
   "outputs": [
    {
     "data": {
      "text/plain": [
       "0.7529411764705882"
      ]
     },
     "execution_count": 8,
     "metadata": {},
     "output_type": "execute_result"
    }
   ],
   "source": [
    "jaccard_similarity_score(y_test, preds)"
   ]
  },
  {
   "cell_type": "code",
   "execution_count": 14,
   "metadata": {},
   "outputs": [
    {
     "data": {
      "text/plain": [
       "0.7529411764705882"
      ]
     },
     "execution_count": 14,
     "metadata": {},
     "output_type": "execute_result"
    }
   ],
   "source": [
    "accuracy_score(y_test, preds)"
   ]
  },
  {
   "cell_type": "code",
   "execution_count": 15,
   "metadata": {},
   "outputs": [
    {
     "name": "stdout",
     "output_type": "stream",
     "text": [
      "{'Country': 0, 'Jazz': 1, 'Metal': 2, 'Hip_Hop': 3, 'Electronic': 4, 'Classical': 5}\n",
      "[[ 98   4   1  14   6  13]\n",
      " [  1 116   2   0   2   1]\n",
      " [  9  17 106   0   2   2]\n",
      " [  4   2   3  86  12  11]\n",
      " [ 10   2   2  29  69   8]\n",
      " [ 14   5   3   3   7 101]]\n"
     ]
    },
    {
     "data": {
      "image/png": "[encoded data removed]",
      "text/plain": [
       "<Figure size 432x288 with 1 Axes>"
      ]
     },
     "metadata": {
      "needs_background": "light"
     },
     "output_type": "display_data"
    }
   ],
   "source": [
    "cm = confusion_matrix(y_test, preds,labels=['Country', 'Classical', 'Jazz', 'Electronic', 'Hip_Hop', 'Metal'])\n",
    "plt.imshow(cm,cmap='Reds')\n",
    "print(genre_map)\n",
    "print(cm)"
   ]
  },
  {
   "cell_type": "code",
   "execution_count": null,
   "metadata": {},
   "outputs": [],
   "source": []
  },
  {
   "cell_type": "code",
   "execution_count": 16,
   "metadata": {},
   "outputs": [],
   "source": [
    "svc = SVC()\n",
    "param_grid = {\n",
    "    'kernel' : ['linear', 'poly', 'rbf', 'sigmoid'],\n",
    "    'C': [0.1, 0.5, 1, 5, 10],\n",
    "    'gamma': ['scale', 'auto']\n",
    "}"
   ]
  },
  {
   "cell_type": "code",
   "execution_count": 24,
   "metadata": {},
   "outputs": [],
   "source": [
    "grid = GridSearchCV(estimator=svc, param_grid=param_grid, iid=False, cv=5,\n",
    "                    return_train_score=True)"
   ]
  },
  {
   "cell_type": "code",
   "execution_count": 25,
   "metadata": {},
   "outputs": [
    {
     "data": {
      "text/plain": [
       "GridSearchCV(cv=5, error_score='raise-deprecating',\n",
       "       estimator=SVC(C=1.0, cache_size=200, class_weight=None, coef0=0.0,\n",
       "  decision_function_shape='ovr', degree=3, gamma='auto_deprecated',\n",
       "  kernel='rbf', max_iter=-1, probability=False, random_state=None,\n",
       "  shrinking=True, tol=0.001, verbose=False),\n",
       "       fit_params=None, iid=False, n_jobs=None,\n",
       "       param_grid={'kernel': ['linear', 'poly', 'rbf', 'sigmoid'], 'C': [0.1, 0.5, 1, 5, 10], 'gamma': ['scale', 'auto']},\n",
       "       pre_dispatch='2*n_jobs', refit=True, return_train_score=True,\n",
       "       scoring=None, verbose=0)"
      ]
     },
     "execution_count": 25,
     "metadata": {},
     "output_type": "execute_result"
    }
   ],
   "source": [
    "grid.fit(X_train_scaled, y_train)"
   ]
  },
  {
   "cell_type": "code",
   "execution_count": 26,
   "metadata": {},
   "outputs": [
    {
     "data": {
      "text/plain": [
       "{'C': 10, 'gamma': 'auto', 'kernel': 'rbf'}"
      ]
     },
     "execution_count": 26,
     "metadata": {},
     "output_type": "execute_result"
    }
   ],
   "source": [
    "grid.best_params_"
   ]
  },
  {
   "cell_type": "code",
   "execution_count": 27,
   "metadata": {},
   "outputs": [
    {
     "data": {
      "text/plain": [
       "GridSearchCV(cv=5, error_score='raise-deprecating',\n",
       "       estimator=SVC(C=1.0, cache_size=200, class_weight=None, coef0=0.0,\n",
       "  decision_function_shape='ovr', degree=3, gamma='auto', kernel='rbf',\n",
       "  max_iter=-1, probability=False, random_state=None, shrinking=True,\n",
       "  tol=0.001, verbose=False),\n",
       "       fit_params=None, iid=False, n_jobs=None,\n",
       "       param_grid={'C': [10, 20, 50, 100, 1000], 'decision_function_shape': ['ovo', 'ovr']},\n",
       "       pre_dispatch='2*n_jobs', refit=True, return_train_score=True,\n",
       "       scoring=None, verbose=0)"
      ]
     },
     "execution_count": 27,
     "metadata": {},
     "output_type": "execute_result"
    }
   ],
   "source": [
    "svc = SVC(gamma='auto')\n",
    "param_grid = {\n",
    "    'C': [10, 20, 50, 100, 1000],\n",
    "    'decision_function_shape': ['ovo', 'ovr']\n",
    "}\n",
    "grid = GridSearchCV(estimator=svc, param_grid=param_grid, iid=False, cv=5, return_train_score=True)\n",
    "grid.fit(X_train_scaled, y_train)"
   ]
  },
  {
   "cell_type": "code",
   "execution_count": 28,
   "metadata": {},
   "outputs": [
    {
     "data": {
      "text/plain": [
       "{'C': 20, 'decision_function_shape': 'ovo'}"
      ]
     },
     "execution_count": 28,
     "metadata": {},
     "output_type": "execute_result"
    }
   ],
   "source": [
    "grid.best_params_"
   ]
  },
  {
   "cell_type": "code",
   "execution_count": 29,
   "metadata": {},
   "outputs": [
    {
     "data": {
      "text/plain": [
       "0.18823529411764706"
      ]
     },
     "execution_count": 29,
     "metadata": {},
     "output_type": "execute_result"
    }
   ],
   "source": [
    "preds = grid.predict(X_test_scaled)\n",
    "hamming_loss(y_test, preds)"
   ]
  },
  {
   "cell_type": "code",
   "execution_count": 30,
   "metadata": {},
   "outputs": [
    {
     "data": {
      "text/plain": [
       "GridSearchCV(cv=5, error_score='raise-deprecating',\n",
       "       estimator=SVC(C=1.0, cache_size=200, class_weight=None, coef0=0.0,\n",
       "  decision_function_shape='ovr', degree=3, gamma='auto', kernel='rbf',\n",
       "  max_iter=-1, probability=False, random_state=None, shrinking=True,\n",
       "  tol=0.001, verbose=False),\n",
       "       fit_params=None, iid=False, n_jobs=None,\n",
       "       param_grid={'C': [15, 20, 25, 30], 'decision_function_shape': ['ovo', 'ovr']},\n",
       "       pre_dispatch='2*n_jobs', refit=True, return_train_score=True,\n",
       "       scoring=None, verbose=0)"
      ]
     },
     "execution_count": 30,
     "metadata": {},
     "output_type": "execute_result"
    }
   ],
   "source": [
    "svc = SVC(gamma='auto')\n",
    "param_grid = {\n",
    "    'C': [15, 20, 25, 30],\n",
    "    'decision_function_shape': ['ovo', 'ovr']\n",
    "}\n",
    "grid = GridSearchCV(estimator=svc, param_grid=param_grid, iid=False, cv=5, return_train_score=True, )\n",
    "grid.fit(X_train_scaled, y_train)"
   ]
  },
  {
   "cell_type": "code",
   "execution_count": 31,
   "metadata": {},
   "outputs": [
    {
     "name": "stdout",
     "output_type": "stream",
     "text": [
      "{'C': 25, 'decision_function_shape': 'ovo'}\n"
     ]
    },
    {
     "data": {
      "text/plain": [
       "0.1830065359477124"
      ]
     },
     "execution_count": 31,
     "metadata": {},
     "output_type": "execute_result"
    }
   ],
   "source": [
    "print(grid.best_params_)\n",
    "preds = grid.predict(X_test_scaled)\n",
    "hamming_loss(y_test, preds)"
   ]
  },
  {
   "cell_type": "code",
   "execution_count": 154,
   "metadata": {},
   "outputs": [
    {
     "data": {
      "text/plain": [
       "dict_keys(['Country', 'Jazz', 'Metal', 'Hip_Hop', 'Electronic', 'Classical'])"
      ]
     },
     "execution_count": 154,
     "metadata": {},
     "output_type": "execute_result"
    }
   ],
   "source": [
    "genre_map.keys()"
   ]
  },
  {
   "cell_type": "code",
   "execution_count": 138,
   "metadata": {},
   "outputs": [
    {
     "name": "stdout",
     "output_type": "stream",
     "text": [
      "[[117   1   0   2   1   1]\n",
      " [  1 109   9   2   4  11]\n",
      " [  2   6  92  11   3   4]\n",
      " [  2  10  19  84   0   5]\n",
      " [ 11   6   3   2 112   2]\n",
      " [  4   9   2   9   2 107]]\n"
     ]
    },
    {
     "data": {
      "text/plain": [
       "array(['Country', 'Jazz', 'Metal', 'Hip_Hop', 'Electronic', 'Classical'],\n",
       "      dtype=object)"
      ]
     },
     "execution_count": 138,
     "metadata": {},
     "output_type": "execute_result"
    },
    {
     "data": {
      "image/png": "[encoded data removed]",
      "text/plain": [
       "<Figure size 432x288 with 1 Axes>"
      ]
     },
     "metadata": {
      "needs_background": "light"
     },
     "output_type": "display_data"
    }
   ],
   "source": [
    "cm = confusion_matrix(y_test, preds)\n",
    "plt.imshow(cm,cmap='Oranges')\n",
    "plt.xticks(np.arange(6),labels=['Country', 'Jazz', 'Metal', 'Hip_Hop', 'Electronic', 'Classical'], rotation=30)\n",
    "plt.yticks(np.arange(6),labels=['Country', 'Jazz', 'Metal', 'Hip_Hop', 'Electronic', 'Classical'])\n",
    "print(cm)\n",
    "df.label.unique()"
   ]
  },
  {
   "cell_type": "code",
   "execution_count": 157,
   "metadata": {},
   "outputs": [
    {
     "data": {
      "text/plain": [
       "'\\nPresent to bookers, and/promoters\\nThey can receive mp3 input from artists and \\n    auto email out feelers to genre appropriate targets:\\n    media, venues, networking, bookers/promoters\\n'"
      ]
     },
     "execution_count": 157,
     "metadata": {},
     "output_type": "execute_result"
    }
   ],
   "source": [
    "\"\"\"\n",
    "Present to bookers, and/promoters\n",
    "They can receive mp3 input from artists and \n",
    "    auto email out feelers to genre appropriate targets:\n",
    "    media, venues, networking, bookers/promoters\n",
    "\"\"\""
   ]
  },
  {
   "cell_type": "code",
   "execution_count": null,
   "metadata": {},
   "outputs": [],
   "source": []
  },
  {
   "cell_type": "code",
   "execution_count": null,
   "metadata": {},
   "outputs": [],
   "source": []
  }
 ],
 "metadata": {
  "kernelspec": {
   "display_name": "learn-env",
   "language": "python",
   "name": "learn-env"
  },
  "language_info": {
   "codemirror_mode": {
    "name": "ipython",
    "version": 3
   },
   "file_extension": ".py",
   "mimetype": "text/x-python",
   "name": "python",
   "nbconvert_exporter": "python",
   "pygments_lexer": "ipython3",
   "version": "3.6.6"
  }
 },
 "nbformat": 4,
 "nbformat_minor": 2
}
