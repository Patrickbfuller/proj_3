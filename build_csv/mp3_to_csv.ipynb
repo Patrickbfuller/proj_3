{
 "cells": [
  {
   "cell_type": "code",
   "execution_count": 1,
   "metadata": {},
   "outputs": [],
   "source": [
    "import csv\n",
    "import os\n",
    "import librosa\n",
    "import numpy as np\n",
    "\n",
    "header = 'name tempo beats chroma_stft rmse spec_cent spec_bw rolloff zcr'.split()\n",
    "header += ['mfcc_' + str(i) for i in range(1,12)] + ['label']\n",
    "file = open('data.csv', 'w', newline='')\n",
    "\n",
    "with file:\n",
    "    writer = csv.writer(file)\n",
    "    writer.writerow(header)\n",
    "    genres = ['classical', 'electronic']\n",
    "\n",
    "songs_folder = '/Users/patrickfuller/flatiron/3_mod/proj_3/scrape/'    \n",
    "    \n",
    "for genre in genres:\n",
    "    for filename in os.listdir(songs_folder + genre):\n",
    "        if filename.endswith('.mp3'):\n",
    "            songname = f'{songs_folder}{genre}/{filename}'\n",
    "            y, sr = librosa.load(songname, mono=True, duration=180, sr=None)\n",
    "            tempo, beats = librosa.beat.beat_track(y=y, sr=sr)\n",
    "            chroma_stft = librosa.feature.chroma_stft(y=y, sr=sr)\n",
    "            rmse = librosa.feature.rmse(y=y)\n",
    "            spec_cent = librosa.feature.spectral_centroid(y=y, sr=sr)\n",
    "            spec_bw = librosa.feature.spectral_bandwidth(y=y, sr=sr)\n",
    "            rolloff = librosa.feature.spectral_rolloff(y=y, sr=sr)\n",
    "            zcr = librosa.feature.zero_crossing_rate(y)\n",
    "            mfcc = librosa.feature.mfcc(y=y, sr=sr, n_mfcc=12)\n",
    "            label = genre.title()\n",
    "\n",
    "            to_append = f'{tempo}, {beats.shape[0]}, {np.mean(chroma_stft)}, {np.mean(rmse)},'\n",
    "            to_append += f'{np.mean(spec_cent)}, {np.mean(spec_bw)}, {np.mean(rolloff)}, {np.mean(zcr)}'    \n",
    "\n",
    "            for e in mfcc[1:]:\n",
    "                to_append += f',{np.mean(e)}'\n",
    "\n",
    "            to_append += f',{label}'\n",
    "            file = open('data.csv', 'a', newline='')\n",
    "\n",
    "            with file:\n",
    "                writer = csv.writer(file)\n",
    "                song_row = [filename] + to_append.split(',')\n",
    "                writer.writerow(song_row)"
   ]
  },
  {
   "cell_type": "code",
   "execution_count": null,
   "metadata": {},
   "outputs": [],
   "source": []
  }
 ],
 "metadata": {
  "kernelspec": {
   "display_name": "learn-env",
   "language": "python",
   "name": "learn-env"
  },
  "language_info": {
   "codemirror_mode": {
    "name": "ipython",
    "version": 3
   },
   "file_extension": ".py",
   "mimetype": "text/x-python",
   "name": "python",
   "nbconvert_exporter": "python",
   "pygments_lexer": "ipython3",
   "version": "3.6.6"
  }
 },
 "nbformat": 4,
 "nbformat_minor": 2
}
