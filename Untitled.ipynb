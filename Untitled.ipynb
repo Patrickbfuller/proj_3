{
 "cells": [
  {
   "cell_type": "code",
   "execution_count": 7,
   "metadata": {},
   "outputs": [],
   "source": [
    "import pandas as pd\n",
    "from sklearn.model_selection import train_test_split, cross_val_score, GridSearchCV\n",
    "from sklearn.svm import SVC"
   ]
  },
  {
   "cell_type": "code",
   "execution_count": 8,
   "metadata": {},
   "outputs": [],
   "source": [
    "df = pd.read_csv('data.csv', index_col='Unnamed: 0')"
   ]
  },
  {
   "cell_type": "code",
   "execution_count": 9,
   "metadata": {},
   "outputs": [
    {
     "data": {
      "text/html": [
       "<div>\n",
       "<style scoped>\n",
       "    .dataframe tbody tr th:only-of-type {\n",
       "        vertical-align: middle;\n",
       "    }\n",
       "\n",
       "    .dataframe tbody tr th {\n",
       "        vertical-align: top;\n",
       "    }\n",
       "\n",
       "    .dataframe thead th {\n",
       "        text-align: right;\n",
       "    }\n",
       "</style>\n",
       "<table border=\"1\" class=\"dataframe\">\n",
       "  <thead>\n",
       "    <tr style=\"text-align: right;\">\n",
       "      <th></th>\n",
       "      <th>name</th>\n",
       "      <th>tempo</th>\n",
       "      <th>beats</th>\n",
       "      <th>chroma_stft</th>\n",
       "      <th>rmse</th>\n",
       "      <th>spec_cent</th>\n",
       "      <th>spec_bw</th>\n",
       "      <th>rolloff</th>\n",
       "      <th>zcr</th>\n",
       "      <th>mfcc_1</th>\n",
       "      <th>...</th>\n",
       "      <th>mfcc_3</th>\n",
       "      <th>mfcc_4</th>\n",
       "      <th>mfcc_5</th>\n",
       "      <th>mfcc_6</th>\n",
       "      <th>mfcc_7</th>\n",
       "      <th>mfcc_8</th>\n",
       "      <th>mfcc_9</th>\n",
       "      <th>mfcc_10</th>\n",
       "      <th>mfcc_11</th>\n",
       "      <th>label</th>\n",
       "    </tr>\n",
       "  </thead>\n",
       "  <tbody>\n",
       "    <tr>\n",
       "      <th>0</th>\n",
       "      <td>Amilcare Ponchielli - Dance of the Hours.mp3</td>\n",
       "      <td>130.813953</td>\n",
       "      <td>394</td>\n",
       "      <td>0.292340</td>\n",
       "      <td>0.042382</td>\n",
       "      <td>1637.235974</td>\n",
       "      <td>2228.712920</td>\n",
       "      <td>2925.815507</td>\n",
       "      <td>0.038808</td>\n",
       "      <td>164.360115</td>\n",
       "      <td>...</td>\n",
       "      <td>4.918759</td>\n",
       "      <td>4.767190</td>\n",
       "      <td>3.798379</td>\n",
       "      <td>-2.531283</td>\n",
       "      <td>-0.907902</td>\n",
       "      <td>-2.287565</td>\n",
       "      <td>0.083561</td>\n",
       "      <td>-2.888623</td>\n",
       "      <td>-3.455121</td>\n",
       "      <td>Classical</td>\n",
       "    </tr>\n",
       "    <tr>\n",
       "      <th>1</th>\n",
       "      <td>Rossini - William Tell Overture - Final.mp3</td>\n",
       "      <td>160.714286</td>\n",
       "      <td>443</td>\n",
       "      <td>0.388742</td>\n",
       "      <td>0.057814</td>\n",
       "      <td>1357.984086</td>\n",
       "      <td>1875.937831</td>\n",
       "      <td>2628.860882</td>\n",
       "      <td>0.028938</td>\n",
       "      <td>165.760189</td>\n",
       "      <td>...</td>\n",
       "      <td>22.165190</td>\n",
       "      <td>5.195708</td>\n",
       "      <td>9.989042</td>\n",
       "      <td>-3.362946</td>\n",
       "      <td>3.713702</td>\n",
       "      <td>-3.914152</td>\n",
       "      <td>-1.442259</td>\n",
       "      <td>-3.176913</td>\n",
       "      <td>-2.756510</td>\n",
       "      <td>Classical</td>\n",
       "    </tr>\n",
       "  </tbody>\n",
       "</table>\n",
       "<p>2 rows × 21 columns</p>\n",
       "</div>"
      ],
      "text/plain": [
       "                                           name       tempo  beats  \\\n",
       "0  Amilcare Ponchielli - Dance of the Hours.mp3  130.813953    394   \n",
       "1   Rossini - William Tell Overture - Final.mp3  160.714286    443   \n",
       "\n",
       "   chroma_stft      rmse    spec_cent      spec_bw      rolloff       zcr  \\\n",
       "0     0.292340  0.042382  1637.235974  2228.712920  2925.815507  0.038808   \n",
       "1     0.388742  0.057814  1357.984086  1875.937831  2628.860882  0.028938   \n",
       "\n",
       "       mfcc_1    ...         mfcc_3    mfcc_4    mfcc_5    mfcc_6    mfcc_7  \\\n",
       "0  164.360115    ...       4.918759  4.767190  3.798379 -2.531283 -0.907902   \n",
       "1  165.760189    ...      22.165190  5.195708  9.989042 -3.362946  3.713702   \n",
       "\n",
       "     mfcc_8    mfcc_9   mfcc_10   mfcc_11      label  \n",
       "0 -2.287565  0.083561 -2.888623 -3.455121  Classical  \n",
       "1 -3.914152 -1.442259 -3.176913 -2.756510  Classical  \n",
       "\n",
       "[2 rows x 21 columns]"
      ]
     },
     "execution_count": 9,
     "metadata": {},
     "output_type": "execute_result"
    }
   ],
   "source": [
    "df.head(2)"
   ]
  },
  {
   "cell_type": "code",
   "execution_count": 11,
   "metadata": {},
   "outputs": [],
   "source": [
    "X = df.drop(['name', 'label',], axis=1)\n",
    "genre_map = {g:i for i, g in enumerate(df.label.unique())}\n",
    "y = df.label\n",
    "X_train, X_test, y_train, y_test = train_test_split(X, y, test_size=0.2, random_state=10)"
   ]
  },
  {
   "cell_type": "code",
   "execution_count": null,
   "metadata": {},
   "outputs": [],
   "source": [
    "svc = SVC()"
   ]
  }
 ],
 "metadata": {
  "kernelspec": {
   "display_name": "learn-env",
   "language": "python",
   "name": "learn-env"
  },
  "language_info": {
   "codemirror_mode": {
    "name": "ipython",
    "version": 3
   },
   "file_extension": ".py",
   "mimetype": "text/x-python",
   "name": "python",
   "nbconvert_exporter": "python",
   "pygments_lexer": "ipython3",
   "version": "3.6.6"
  }
 },
 "nbformat": 4,
 "nbformat_minor": 2
}
