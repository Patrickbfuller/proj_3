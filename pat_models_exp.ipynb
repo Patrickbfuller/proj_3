{
 "cells": [
  {
   "cell_type": "code",
   "execution_count": 3,
   "metadata": {},
   "outputs": [],
   "source": [
    "import pandas as pd\n",
    "import numpy as np\n",
    "from sklearn.model_selection import train_test_split, cross_val_score, GridSearchCV\n",
    "from sklearn.linear_model import LogisticRegression\n",
    "from sklearn.preprocessing import StandardScaler\n",
    "from sklearn.metrics import accuracy_score\n",
    "from sklearn.neighbors import KNeighborsClassifier\n",
    "from sklearn.tree import DecisionTreeRegressor, DecisionTreeClassifier\n",
    "from sklearn.ensemble import RandomForestClassifier, BaggingClassifier\n",
    "import xgboost as xgb"
   ]
  },
  {
   "cell_type": "code",
   "execution_count": 4,
   "metadata": {},
   "outputs": [
    {
     "data": {
      "text/html": [
       "<div>\n",
       "<style scoped>\n",
       "    .dataframe tbody tr th:only-of-type {\n",
       "        vertical-align: middle;\n",
       "    }\n",
       "\n",
       "    .dataframe tbody tr th {\n",
       "        vertical-align: top;\n",
       "    }\n",
       "\n",
       "    .dataframe thead th {\n",
       "        text-align: right;\n",
       "    }\n",
       "</style>\n",
       "<table border=\"1\" class=\"dataframe\">\n",
       "  <thead>\n",
       "    <tr style=\"text-align: right;\">\n",
       "      <th></th>\n",
       "      <th>Unnamed: 0</th>\n",
       "      <th>name</th>\n",
       "      <th>tempo</th>\n",
       "      <th>beats</th>\n",
       "      <th>chroma_stft</th>\n",
       "      <th>rmse</th>\n",
       "      <th>spec_cent</th>\n",
       "      <th>spec_bw</th>\n",
       "      <th>rolloff</th>\n",
       "      <th>zcr</th>\n",
       "      <th>...</th>\n",
       "      <th>mfcc_3</th>\n",
       "      <th>mfcc_4</th>\n",
       "      <th>mfcc_5</th>\n",
       "      <th>mfcc_6</th>\n",
       "      <th>mfcc_7</th>\n",
       "      <th>mfcc_8</th>\n",
       "      <th>mfcc_9</th>\n",
       "      <th>mfcc_10</th>\n",
       "      <th>mfcc_11</th>\n",
       "      <th>label</th>\n",
       "    </tr>\n",
       "  </thead>\n",
       "  <tbody>\n",
       "    <tr>\n",
       "      <th>0</th>\n",
       "      <td>0</td>\n",
       "      <td>Amilcare Ponchielli - Dance of the Hours.mp3</td>\n",
       "      <td>130.813953</td>\n",
       "      <td>394</td>\n",
       "      <td>0.292340</td>\n",
       "      <td>0.042382</td>\n",
       "      <td>1637.235974</td>\n",
       "      <td>2228.712920</td>\n",
       "      <td>2925.815507</td>\n",
       "      <td>0.038808</td>\n",
       "      <td>...</td>\n",
       "      <td>4.918759</td>\n",
       "      <td>4.767190</td>\n",
       "      <td>3.798379</td>\n",
       "      <td>-2.531283</td>\n",
       "      <td>-0.907902</td>\n",
       "      <td>-2.287565</td>\n",
       "      <td>0.083561</td>\n",
       "      <td>-2.888623</td>\n",
       "      <td>-3.455121</td>\n",
       "      <td>Classical</td>\n",
       "    </tr>\n",
       "    <tr>\n",
       "      <th>1</th>\n",
       "      <td>1</td>\n",
       "      <td>Rossini - William Tell Overture - Final.mp3</td>\n",
       "      <td>160.714286</td>\n",
       "      <td>443</td>\n",
       "      <td>0.388742</td>\n",
       "      <td>0.057814</td>\n",
       "      <td>1357.984086</td>\n",
       "      <td>1875.937831</td>\n",
       "      <td>2628.860882</td>\n",
       "      <td>0.028938</td>\n",
       "      <td>...</td>\n",
       "      <td>22.165190</td>\n",
       "      <td>5.195708</td>\n",
       "      <td>9.989042</td>\n",
       "      <td>-3.362946</td>\n",
       "      <td>3.713702</td>\n",
       "      <td>-3.914152</td>\n",
       "      <td>-1.442259</td>\n",
       "      <td>-3.176913</td>\n",
       "      <td>-2.756510</td>\n",
       "      <td>Classical</td>\n",
       "    </tr>\n",
       "  </tbody>\n",
       "</table>\n",
       "<p>2 rows × 22 columns</p>\n",
       "</div>"
      ],
      "text/plain": [
       "   Unnamed: 0                                          name       tempo  \\\n",
       "0           0  Amilcare Ponchielli - Dance of the Hours.mp3  130.813953   \n",
       "1           1   Rossini - William Tell Overture - Final.mp3  160.714286   \n",
       "\n",
       "   beats  chroma_stft      rmse    spec_cent      spec_bw      rolloff  \\\n",
       "0    394     0.292340  0.042382  1637.235974  2228.712920  2925.815507   \n",
       "1    443     0.388742  0.057814  1357.984086  1875.937831  2628.860882   \n",
       "\n",
       "        zcr    ...         mfcc_3    mfcc_4    mfcc_5    mfcc_6    mfcc_7  \\\n",
       "0  0.038808    ...       4.918759  4.767190  3.798379 -2.531283 -0.907902   \n",
       "1  0.028938    ...      22.165190  5.195708  9.989042 -3.362946  3.713702   \n",
       "\n",
       "     mfcc_8    mfcc_9   mfcc_10   mfcc_11      label  \n",
       "0 -2.287565  0.083561 -2.888623 -3.455121  Classical  \n",
       "1 -3.914152 -1.442259 -3.176913 -2.756510  Classical  \n",
       "\n",
       "[2 rows x 22 columns]"
      ]
     },
     "execution_count": 4,
     "metadata": {},
     "output_type": "execute_result"
    }
   ],
   "source": [
    "df = pd.read_csv('data.csv')\n",
    "df.head(2)"
   ]
  },
  {
   "cell_type": "code",
   "execution_count": 5,
   "metadata": {},
   "outputs": [
    {
     "data": {
      "text/plain": [
       "array(['Classical', 'Electronic', 'Metal', 'Hip_Hop', 'Country', 'Jazz'],\n",
       "      dtype=object)"
      ]
     },
     "execution_count": 5,
     "metadata": {},
     "output_type": "execute_result"
    }
   ],
   "source": [
    "df.label.unique()"
   ]
  },
  {
   "cell_type": "code",
   "execution_count": 6,
   "metadata": {},
   "outputs": [
    {
     "data": {
      "text/plain": [
       "Index(['Unnamed: 0', 'name', 'tempo', 'beats', 'chroma_stft', 'rmse',\n",
       "       'spec_cent', 'spec_bw', 'rolloff', 'zcr', 'mfcc_1', 'mfcc_2', 'mfcc_3',\n",
       "       'mfcc_4', 'mfcc_5', 'mfcc_6', 'mfcc_7', 'mfcc_8', 'mfcc_9', 'mfcc_10',\n",
       "       'mfcc_11', 'label'],\n",
       "      dtype='object')"
      ]
     },
     "execution_count": 6,
     "metadata": {},
     "output_type": "execute_result"
    }
   ],
   "source": [
    "df.columns"
   ]
  },
  {
   "cell_type": "code",
   "execution_count": 7,
   "metadata": {},
   "outputs": [],
   "source": [
    "#Assign int to genres\n",
    "genre_dict = {\n",
    "    'Country' : 0,\n",
    "    'Classical' : 1,\n",
    "    'Metal' : 2,\n",
    "    'Jazz' : 3,\n",
    "    'Hip_Hop' : 4,\n",
    "    'Electronic': 5,\n",
    "}\n",
    "\n",
    "X = df.drop(['Unnamed: 0', 'name', 'label'], axis=1).astype(float)\n",
    "y = df.label.map(genre_dict)\n",
    "#split data\n",
    "\n",
    "X_train,X_test,y_train,y_test = train_test_split(X,y,random_state=10)"
   ]
  },
  {
   "cell_type": "code",
   "execution_count": 8,
   "metadata": {},
   "outputs": [],
   "source": [
    "scaler = StandardScaler()"
   ]
  },
  {
   "cell_type": "code",
   "execution_count": 9,
   "metadata": {},
   "outputs": [],
   "source": [
    "X_train_scaled = scaler.fit_transform(X_train)\n",
    "X_test_scaled = scaler.transform(X_test)\n",
    "X_scaled = scaler.fit_transform(X)"
   ]
  },
  {
   "cell_type": "code",
   "execution_count": 10,
   "metadata": {},
   "outputs": [
    {
     "name": "stdout",
     "output_type": "stream",
     "text": [
      "Mean Cross Validation Score:  0.7219640723063226\n"
     ]
    }
   ],
   "source": [
    "#Logisitic Regression\n",
    "logreg = LogisticRegression(solver='lbfgs', multi_class='multinomial')\n",
    "log_score = np.mean(cross_val_score(logreg,X_scaled,y,cv=3))\n",
    "print(\"Mean Cross Validation Score: \", log_score)"
   ]
  },
  {
   "cell_type": "code",
   "execution_count": 11,
   "metadata": {},
   "outputs": [
    {
     "name": "stdout",
     "output_type": "stream",
     "text": [
      "Logistic Regression:  0.654320987654321\n"
     ]
    }
   ],
   "source": [
    "logreg.fit(X_train_scaled,y_train)\n",
    "score = logreg.score(X_test_scaled, y_test)\n",
    "print(\"Logistic Regression: \",score)"
   ]
  },
  {
   "cell_type": "code",
   "execution_count": 12,
   "metadata": {},
   "outputs": [
    {
     "name": "stdout",
     "output_type": "stream",
     "text": [
      "Accuracy Score:  0.5370370370370371\n",
      "Mean Cross Val Score:  0.5459987159985731\n"
     ]
    }
   ],
   "source": [
    "#Decision Trees\n",
    "dtc = DecisionTreeClassifier()\n",
    "dtc_cv_score = np.mean(cross_val_score(dtc,X,y,cv=3))\n",
    "dtc.fit(X_train,y_train)\n",
    "dtc_acc_score = dtc.score(X_test,y_test)\n",
    "print(\"Accuracy Score: \",dtc_acc_score)\n",
    "print(\"Mean Cross Val Score: \",dtc_cv_score)"
   ]
  },
  {
   "cell_type": "code",
   "execution_count": null,
   "metadata": {},
   "outputs": [],
   "source": [
    "# param_grid = {\n",
    "#     'max_depth' : []\n",
    "#     'min_samples_splt' : []\n",
    "#     'min_samples_leaf' : []\n",
    "# }\n",
    "\n",
    "# grid_search = GridSearchCV(dtc, param_grid, cv=3, return_train_score=True)\n",
    "# grid_search.fit(scaled_X_train,y_train)"
   ]
  },
  {
   "cell_type": "code",
   "execution_count": null,
   "metadata": {},
   "outputs": [],
   "source": [
    "# gs_train_score = np.mean(grid_search.cv_results_['mean_train_score'])\n",
    "# gs_test_score = grid_search.score(X_test,y_test)\n",
    "# print(\"Mean training score: \", gs_train_score)\n",
    "# print(\"Mean test score: \", gs_test_score)\n",
    "# print(\"Best params: \")\n",
    "# gs_grid_search.best_params_"
   ]
  },
  {
   "cell_type": "code",
   "execution_count": 13,
   "metadata": {},
   "outputs": [
    {
     "name": "stdout",
     "output_type": "stream",
     "text": [
      "Bagged score:  0.6481481481481481\n",
      "Random Forest Score:  0.691358024691358\n"
     ]
    }
   ],
   "source": [
    "#Random Forests\n",
    "#Bagged\n",
    "bag = BaggingClassifier(n_estimators=100)\n",
    "bag.fit(X_train, y_train)\n",
    "print(\"Bagged score: \", bag.score(X_test,y_test))\n",
    "#Random Forest\n",
    "rf = RandomForestClassifier(n_estimators=100)\n",
    "rf.fit(X_train,y_train)\n",
    "print(\"Random Forest Score: \", rf.score(X_test,y_test))"
   ]
  },
  {
   "cell_type": "code",
   "execution_count": 14,
   "metadata": {},
   "outputs": [
    {
     "name": "stdout",
     "output_type": "stream",
     "text": [
      "K_Nearest Neightbors:  0.4506172839506173\n"
     ]
    }
   ],
   "source": [
    "#k-nearest neighbors\n",
    "n = 1\n",
    "p = 100\n",
    "knn = KNeighborsClassifier(n_neighbors=n, p=p)\n",
    "knn.fit(X_train_scaled,y_train)\n",
    "print(\"K_Nearest Neightbors: \", knn.score(X_test_scaled,y_test))"
   ]
  },
  {
   "cell_type": "code",
   "execution_count": null,
   "metadata": {},
   "outputs": [],
   "source": [
    "#XGBoost\n",
    "# #Scale?\n",
    "# scaler = StandardScaler()\n",
    "# scaler.fit(X_train)\n",
    "# scaled_X_train = scaler.transform(X_train)\n",
    "\n",
    "#Classifier\n",
    "xgb_clf = xgb.XGBClassifier(n_jobs=-1,)\n",
    "xgb_clf.fit(X_train_scaled,y_train)\n",
    "train_preds = xgb_clf.predict(X_train_scaled)\n",
    "test_preds = xgb_clf.predict(X_test_scaled)\n",
    "train_acc = accuracy_score(y_train,train_preds)\n",
    "test_acc = accuracy_score(y_test,test_preds)\n",
    "print(\"XGBoost Scores\")\n",
    "print(\"Train Score: \", train_acc)\n",
    "print(\"Test Score: \", test_acc)"
   ]
  },
  {
   "cell_type": "code",
   "execution_count": null,
   "metadata": {},
   "outputs": [],
   "source": []
  }
 ],
 "metadata": {
  "kernelspec": {
   "display_name": "learn-env",
   "language": "python",
   "name": "learn-env"
  },
  "language_info": {
   "codemirror_mode": {
    "name": "ipython",
    "version": 3
   },
   "file_extension": ".py",
   "mimetype": "text/x-python",
   "name": "python",
   "nbconvert_exporter": "python",
   "pygments_lexer": "ipython3",
   "version": "3.6.6"
  }
 },
 "nbformat": 4,
 "nbformat_minor": 2
}
