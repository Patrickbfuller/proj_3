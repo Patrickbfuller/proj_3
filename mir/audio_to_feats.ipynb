{
 "cells": [
  {
   "cell_type": "code",
   "execution_count": 27,
   "metadata": {},
   "outputs": [],
   "source": [
    "import os\n",
    "import librosa\n",
    "import numpy as np\n",
    "import time"
   ]
  },
  {
   "cell_type": "code",
   "execution_count": 22,
   "metadata": {},
   "outputs": [],
   "source": [
    "elec_songs = os.listdir(\"/Users/patrickfuller/flatiron/3_mod/proj_3/scrape/electronic/\")"
   ]
  },
  {
   "cell_type": "code",
   "execution_count": 29,
   "metadata": {},
   "outputs": [
    {
     "name": "stdout",
     "output_type": "stream",
     "text": [
      "48000 127.8409090909091 0.5225649747191579 4044.1412657510195\n",
      "44100 135.99917763157896 0.46650973989314065 3381.851570187156\n",
      "44100 161.4990234375 0.4582747847020082 3274.3290101022067\n",
      "36.14216589927673\n"
     ]
    }
   ],
   "source": [
    "start = time.time()\n",
    "electronic_path = \"/Users/patrickfuller/flatiron/3_mod/proj_3/scrape/electronic/\"\n",
    "for song in elec_songs[:3]:\n",
    "    song_path = electronic_path + song\n",
    "    y, sr = librosa.load(song_path,sr=None)\n",
    "    tempo, beats = librosa.beat.beat_track(y=y, sr=sr)\n",
    "    chroma_stft = librosa.feature.chroma_stft(y=y, sr=sr)\n",
    "    rmse = librosa.feature.rmse(y=y)\n",
    "    spec_cent = librosa.feature.spectral_centroid(y=y, sr=sr)\n",
    "    spec_bw = librosa.feature.spectral_bandwidth(y=y, sr=sr)\n",
    "    rolloff = librosa.feature.spectral_rolloff(y=y, sr=sr)\n",
    "    zcr = librosa.feature.zero_crossing_rate(y)\n",
    "    mfcc = librosa.feature.mfcc(y=y, sr=sr)\n",
    "    print(sr, tempo, np.mean(chroma_stft), np.mean(spec_bw))\n",
    "print(time.time() - start)"
   ]
  },
  {
   "cell_type": "code",
   "execution_count": null,
   "metadata": {},
   "outputs": [],
   "source": []
  }
 ],
 "metadata": {
  "kernelspec": {
   "display_name": "learn-env",
   "language": "python",
   "name": "learn-env"
  },
  "language_info": {
   "codemirror_mode": {
    "name": "ipython",
    "version": 3
   },
   "file_extension": ".py",
   "mimetype": "text/x-python",
   "name": "python",
   "nbconvert_exporter": "python",
   "pygments_lexer": "ipython3",
   "version": "3.6.6"
  }
 },
 "nbformat": 4,
 "nbformat_minor": 2
}
