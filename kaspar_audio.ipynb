{
 "cells": [
  {
   "cell_type": "code",
   "execution_count": 9,
   "metadata": {},
   "outputs": [],
   "source": [
    "import librosa\n",
    "import numpy as np\n",
    "import pandas as pd\n",
    "import matplotlib.pyplot as plt\n",
    "import IPython.display\n",
    "import librosa.display\n",
    "import glob\n",
    "\n",
    "from kaspar_sizer import total_size\n",
    "\n",
    "plt.style.use('seaborn-muted')\n",
    "%matplotlib inline"
   ]
  },
  {
   "cell_type": "code",
   "execution_count": 12,
   "metadata": {},
   "outputs": [],
   "source": [
    "songs = {}\n",
    "paths = glob.glob('songs/*.m4a')\n",
    "\n",
    "for path in paths:\n",
    "    songname = path.rsplit('/', 1)[1][:-4]\n",
    "    audio, sr = librosa.load(path, res_type='kaiser_fast')\n",
    "    songs[songname] = {'y':audio, 'sr':sr}"
   ]
  },
  {
   "cell_type": "code",
   "execution_count": 14,
   "metadata": {},
   "outputs": [
    {
     "ename": "NameError",
     "evalue": "name 'librosa' is not defined",
     "output_type": "error",
     "traceback": [
      "\u001b[0;31m---------------------------------------------------------------------------\u001b[0m",
      "\u001b[0;31mNameError\u001b[0m                                 Traceback (most recent call last)",
      "\u001b[0;32m<ipython-input-14-0baa0fa15d55>\u001b[0m in \u001b[0;36m<module>\u001b[0;34m()\u001b[0m\n\u001b[1;32m      2\u001b[0m \u001b[0;32mimport\u001b[0m \u001b[0mlibrosa\u001b[0m\u001b[0;34m\u001b[0m\u001b[0;34m\u001b[0m\u001b[0m\n\u001b[1;32m      3\u001b[0m \u001b[0;34m\u001b[0m\u001b[0m\n\u001b[0;32m----> 4\u001b[0;31m \u001b[0mread_songs\u001b[0m\u001b[0;34m(\u001b[0m\u001b[0msuffix\u001b[0m\u001b[0;34m=\u001b[0m\u001b[0;34m[\u001b[0m\u001b[0;34m'm4a'\u001b[0m\u001b[0;34m]\u001b[0m\u001b[0;34m)\u001b[0m\u001b[0;34m\u001b[0m\u001b[0;34m\u001b[0m\u001b[0m\n\u001b[0m",
      "\u001b[0;32m~/flatiron/projects/proj_3/projaudio.py\u001b[0m in \u001b[0;36mread_songs\u001b[0;34m(n, folder, suffix)\u001b[0m\n\u001b[1;32m     15\u001b[0m         \u001b[0mn\u001b[0m \u001b[0;34m=\u001b[0m \u001b[0mlen\u001b[0m\u001b[0;34m(\u001b[0m\u001b[0mpaths\u001b[0m\u001b[0;34m)\u001b[0m\u001b[0;34m\u001b[0m\u001b[0;34m\u001b[0m\u001b[0m\n\u001b[1;32m     16\u001b[0m \u001b[0;34m\u001b[0m\u001b[0m\n\u001b[0;32m---> 17\u001b[0;31m     \u001b[0;32mfor\u001b[0m \u001b[0mpath\u001b[0m \u001b[0;32min\u001b[0m \u001b[0mpaths\u001b[0m\u001b[0;34m[\u001b[0m\u001b[0;34m:\u001b[0m\u001b[0mn\u001b[0m\u001b[0;34m]\u001b[0m\u001b[0;34m:\u001b[0m\u001b[0;34m\u001b[0m\u001b[0;34m\u001b[0m\u001b[0m\n\u001b[0m\u001b[1;32m     18\u001b[0m         \u001b[0msongname\u001b[0m \u001b[0;34m=\u001b[0m \u001b[0mpath\u001b[0m\u001b[0;34m.\u001b[0m\u001b[0mrsplit\u001b[0m\u001b[0;34m(\u001b[0m\u001b[0;34m'/'\u001b[0m\u001b[0;34m,\u001b[0m \u001b[0;36m1\u001b[0m\u001b[0;34m)\u001b[0m\u001b[0;34m[\u001b[0m\u001b[0;36m1\u001b[0m\u001b[0;34m]\u001b[0m\u001b[0;34m[\u001b[0m\u001b[0;34m:\u001b[0m\u001b[0;34m-\u001b[0m\u001b[0;36m4\u001b[0m\u001b[0;34m]\u001b[0m\u001b[0;34m\u001b[0m\u001b[0;34m\u001b[0m\u001b[0m\n\u001b[1;32m     19\u001b[0m         \u001b[0maudio\u001b[0m\u001b[0;34m,\u001b[0m \u001b[0msr\u001b[0m \u001b[0;34m=\u001b[0m \u001b[0mlibrosa\u001b[0m\u001b[0;34m.\u001b[0m\u001b[0mload\u001b[0m\u001b[0;34m(\u001b[0m\u001b[0mpath\u001b[0m\u001b[0;34m,\u001b[0m \u001b[0mres_type\u001b[0m\u001b[0;34m=\u001b[0m\u001b[0;34m'kaiser_fast'\u001b[0m\u001b[0;34m)\u001b[0m\u001b[0;34m\u001b[0m\u001b[0;34m\u001b[0m\u001b[0m\n",
      "\u001b[0;31mNameError\u001b[0m: name 'librosa' is not defined"
     ]
    }
   ],
   "source": [
    "from projaudio import read_songs\n",
    "import librosa\n",
    "\n",
    "read_songs(suffix=['m4a'])"
   ]
  },
  {
   "cell_type": "code",
   "execution_count": 13,
   "metadata": {},
   "outputs": [
    {
     "data": {
      "text/plain": [
       "{'04 Song for Someone': {'y': array([ 6.92519607e-05,  1.27026127e-04,  1.17690535e-04, ...,\n",
       "         -4.80143281e-05, -4.76522655e-05,  0.00000000e+00], dtype=float32),\n",
       "  'sr': 22050},\n",
       " '06 Volcano': {'y': array([-0.00050229, -0.00073015, -0.000506  , ...,  0.        ,\n",
       "          0.        ,  0.        ], dtype=float32), 'sr': 22050},\n",
       " '08 Cedarwood Road': {'y': array([-7.7705101e-07,  7.6470752e-07, -3.8519468e-07, ...,\n",
       "         -1.7290962e-05, -1.0535097e-05,  0.0000000e+00], dtype=float32),\n",
       "  'sr': 22050},\n",
       " '03 California (There Is No End to Love)': {'y': array([-5.8261568e-05,  1.7307742e-04,  4.2663034e-04, ...,\n",
       "          6.4375148e-05,  6.4363310e-05,  3.5364825e-05], dtype=float32),\n",
       "  'sr': 22050},\n",
       " '10 This Is Where You Can Reach Me Now': {'y': array([0., 0., 0., ..., 0., 0., 0.], dtype=float32),\n",
       "  'sr': 22050},\n",
       " \"01 The Rake's Song\": {'y': array([-0.0172097 , -0.02409358, -0.01536615, ..., -0.28807327,\n",
       "         -0.24220046, -0.27135974], dtype=float32), 'sr': 22050},\n",
       " '02 Every Breaking Wave': {'y': array([ 0.        ,  0.        ,  0.        , ..., -0.00185481,\n",
       "         -0.0012726 ,  0.        ], dtype=float32), 'sr': 22050},\n",
       " '01 The Miracle (Of Joey Ramone)': {'y': array([0., 0., 0., ..., 0., 0., 0.], dtype=float32),\n",
       "  'sr': 22050},\n",
       " '09 Sleep Like a Baby Tonight': {'y': array([1.0811002e-05, 1.6809361e-05, 1.4299553e-05, ..., 0.0000000e+00,\n",
       "         0.0000000e+00, 0.0000000e+00], dtype=float32), 'sr': 22050},\n",
       " '05 Iris (Hold Me Close)': {'y': array([-2.7843325e-05, -4.5376211e-05, -4.4738506e-05, ...,\n",
       "         -2.0036465e-04, -7.8358880e-04, -9.1772014e-04], dtype=float32),\n",
       "  'sr': 22050},\n",
       " '07 Raised By Wolves': {'y': array([0.000000e+00, 0.000000e+00, 0.000000e+00, ..., 6.417007e-05,\n",
       "         6.018527e-05, 0.000000e+00], dtype=float32), 'sr': 22050},\n",
       " '11 The Troubles': {'y': array([0., 0., 0., ..., 0., 0., 0.], dtype=float32),\n",
       "  'sr': 22050}}"
      ]
     },
     "execution_count": 13,
     "metadata": {},
     "output_type": "execute_result"
    }
   ],
   "source": [
    "songs"
   ]
  },
  {
   "cell_type": "code",
   "execution_count": null,
   "metadata": {},
   "outputs": [],
   "source": [
    "#total_size(songs)"
   ]
  },
  {
   "cell_type": "code",
   "execution_count": null,
   "metadata": {},
   "outputs": [],
   "source": [
    "audio.shape"
   ]
  },
  {
   "cell_type": "code",
   "execution_count": null,
   "metadata": {},
   "outputs": [],
   "source": [
    "tempogram = librosa.beat.tempogram(audio, sr)"
   ]
  },
  {
   "cell_type": "code",
   "execution_count": null,
   "metadata": {},
   "outputs": [],
   "source": [
    "features = [method for method in dir(librosa.feature) if '__' not in method]\n",
    "commands = \"\".join('df[\"'+method+'\"] = librosa.feature.'+method+'(audio, sr),\\n' for method in features)\n",
    "print(commands)"
   ]
  },
  {
   "cell_type": "code",
   "execution_count": null,
   "metadata": {},
   "outputs": [],
   "source": [
    "df = pd.DataFrame(audio)\n",
    "\n",
    "def build_features(audio=audio):\n",
    "    df[\"chroma_cens\"] = librosa.feature.chroma_cens(audio, sr),\n",
    "    df[\"chroma_cqt\"] = librosa.feature.chroma_cqt(audio, sr),\n",
    "    df[\"chroma_stft\"] = librosa.feature.chroma_stft(audio, sr),\n",
    "    df[\"delta\"] = librosa.feature.delta(audio, sr),\n",
    "    df[\"melspectrogram\"] = librosa.feature.melspectrogram(audio, sr),\n",
    "    df[\"mfcc\"] = librosa.feature.mfcc(audio, sr),\n",
    "    df[\"poly_features\"] = librosa.feature.poly_features(audio, sr),\n",
    "    df[\"rhythm\"] = librosa.feature.rhythm(audio, sr),\n",
    "    df[\"rms\"] = librosa.feature.rms(audio, sr),\n",
    "    df[\"rmse\"] = librosa.feature.rmse(audio, sr),\n",
    "    df[\"spectral\"] = librosa.feature.spectral(audio, sr),\n",
    "    df[\"spectral_bandwidth\"] = librosa.feature.spectral_bandwidth(audio, sr),\n",
    "    df[\"spectral_centroid\"] = librosa.feature.spectral_centroid(audio, sr),\n",
    "    df[\"spectral_contrast\"] = librosa.feature.spectral_contrast(audio, sr),\n",
    "    df[\"spectral_flatness\"] = librosa.feature.spectral_flatness(audio, sr),\n",
    "    df[\"spectral_rolloff\"] = librosa.feature.spectral_rolloff(audio, sr),\n",
    "    df[\"stack_memory\"] = librosa.feature.stack_memory(audio, sr),\n",
    "    df[\"tempogram\"] = librosa.feature.tempogram(audio, sr),\n",
    "    df[\"tonnetz\"] = librosa.feature.tonnetz(audio, sr),\n",
    "    df[\"utils\"] = librosa.feature.utils(audio, sr),\n",
    "    df[\"zero_crossing_rate\"] = librosa.feature.zero_crossing_rate(audio, sr)"
   ]
  },
  {
   "cell_type": "code",
   "execution_count": null,
   "metadata": {},
   "outputs": [],
   "source": [
    "build_features()"
   ]
  },
  {
   "cell_type": "code",
   "execution_count": null,
   "metadata": {},
   "outputs": [],
   "source": [
    "df.head()"
   ]
  },
  {
   "cell_type": "code",
   "execution_count": null,
   "metadata": {},
   "outputs": [],
   "source": [
    "df.plot()"
   ]
  },
  {
   "cell_type": "code",
   "execution_count": null,
   "metadata": {},
   "outputs": [],
   "source": [
    "S = librosa.feature.melspectrogram(audio, sr=sr, n_mels=128)"
   ]
  },
  {
   "cell_type": "code",
   "execution_count": null,
   "metadata": {},
   "outputs": [],
   "source": [
    "log_S = librosa.power_to_db(S, ref=np.max)\n",
    "plt.figure(figsize=(12,4))\n",
    "librosa.display.specshow(log_S, sr=sr, x_axis='time', y_axis='mel')\n",
    "plt.colorbar(format=\"%+0.2f dB\")\n",
    "plt.tight_layout()"
   ]
  },
  {
   "cell_type": "code",
   "execution_count": null,
   "metadata": {},
   "outputs": [],
   "source": [
    "y_harmonic, y_percussive = librosa.effects.hpss(audio)"
   ]
  },
  {
   "cell_type": "code",
   "execution_count": null,
   "metadata": {},
   "outputs": [],
   "source": [
    "S_harmonic   = librosa.feature.melspectrogram(y_harmonic, sr=sr)\n",
    "S_percussive = librosa.feature.melspectrogram(y_percussive, sr=sr)\n",
    "\n",
    "# Convert to log scale (dB). We'll use the peak power as reference.\n",
    "log_Sh = librosa.power_to_db(S_harmonic, ref=np.max)\n",
    "log_Sp = librosa.power_to_db(S_percussive, ref=np.max)\n",
    "\n",
    "# Make a new figure\n",
    "plt.figure(figsize=(12,6))\n",
    "\n",
    "plt.subplot(2,1,1)\n",
    "# Display the spectrogram on a mel scale\n",
    "librosa.display.specshow(log_Sh, sr=sr, y_axis='mel')\n",
    "\n",
    "# Put a descriptive title on the plot\n",
    "plt.title('mel power spectrogram (Harmonic)')\n",
    "\n",
    "# draw a color bar\n",
    "plt.colorbar(format='%+02.0f dB')\n",
    "\n",
    "plt.subplot(2,1,2)\n",
    "librosa.display.specshow(log_Sp, sr=sr, x_axis='time', y_axis='mel')\n",
    "\n",
    "# Put a descriptive title on the plot\n",
    "plt.title('mel power spectrogram (Percussive)')\n",
    "\n",
    "# draw a color bar\n",
    "plt.colorbar(format='%+02.0f dB')\n",
    "\n",
    "# Make the figure layout compact\n",
    "plt.tight_layout()"
   ]
  },
  {
   "cell_type": "code",
   "execution_count": null,
   "metadata": {},
   "outputs": [],
   "source": [
    "C = librosa.feature.chroma_cqt(y=y_harmonic, sr=sr)"
   ]
  },
  {
   "cell_type": "code",
   "execution_count": null,
   "metadata": {},
   "outputs": [],
   "source": [
    "plt.figure(figsize=(12,4))\n",
    "librosa.display.specshow(C, sr=sr, x_axis='time', y_axis='chroma', vmin=0, vmax=1)\n",
    "plt.title('Chromagram')\n",
    "plt.colorbar()\n",
    "plt.tight_layout()"
   ]
  },
  {
   "cell_type": "code",
   "execution_count": null,
   "metadata": {},
   "outputs": [],
   "source": [
    "C = librosa.feature.chroma_cqt(y=y_harmonic, sr=sr)\n",
    "def get_key(chroma=C):\n",
    "    pass"
   ]
  },
  {
   "cell_type": "code",
   "execution_count": null,
   "metadata": {},
   "outputs": [],
   "source": [
    "librosa.beat.tempo(audio)\n",
    "tempo, beat = librosa.beat.beat_track(audio)\n",
    "beat.shape"
   ]
  },
  {
   "cell_type": "code",
   "execution_count": null,
   "metadata": {},
   "outputs": [],
   "source": [
    "songs_df = pd.DataFrame({'song':\"sample song\", 'artist':'librosa', 'audio':[audio]})\n",
    "\n",
    "songs_df.assign(tempo=librosa.beat.tempo(audio))"
   ]
  },
  {
   "cell_type": "code",
   "execution_count": null,
   "metadata": {},
   "outputs": [],
   "source": [
    "audio.shape"
   ]
  },
  {
   "cell_type": "code",
   "execution_count": null,
   "metadata": {},
   "outputs": [],
   "source": [
    "C.shape"
   ]
  },
  {
   "cell_type": "code",
   "execution_count": null,
   "metadata": {},
   "outputs": [],
   "source": []
  }
 ],
 "metadata": {
  "kernelspec": {
   "display_name": "learn-env",
   "language": "python",
   "name": "learn-env"
  },
  "language_info": {
   "codemirror_mode": {
    "name": "ipython",
    "version": 3
   },
   "file_extension": ".py",
   "mimetype": "text/x-python",
   "name": "python",
   "nbconvert_exporter": "python",
   "pygments_lexer": "ipython3",
   "version": "3.7.3"
  }
 },
 "nbformat": 4,
 "nbformat_minor": 2
}
