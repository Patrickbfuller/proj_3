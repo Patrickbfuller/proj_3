{
 "cells": [
  {
   "cell_type": "code",
   "execution_count": 2,
   "metadata": {},
   "outputs": [],
   "source": [
    "import pandas as pd\n",
    "import numpy as np\n",
    "import matplotlib.pyplot as plt\n",
    "from sklearn.model_selection import train_test_split, cross_val_score\n",
    "from sklearn.preprocessing import StandardScaler\n",
    "from sklearn.linear_model import LogisticRegression\n",
    "from sklearn.metrics import hamming_loss, confusion_matrix, log_loss, accuracy_score, zero_one_loss, jaccard_similarity_score\n",
    "from sklearn.ensemble import BaggingClassifier\n",
    "from sklearn.decomposition import PCA\n",
    "from sklearn.ensemble import GradientBoostingClassifier\n",
    "from sklearn.svm import SVC"
   ]
  },
  {
   "cell_type": "code",
   "execution_count": null,
   "metadata": {},
   "outputs": [],
   "source": []
  },
  {
   "cell_type": "code",
   "execution_count": null,
   "metadata": {},
   "outputs": [],
   "source": []
  },
  {
   "cell_type": "code",
   "execution_count": 3,
   "metadata": {},
   "outputs": [
    {
     "name": "stdout",
     "output_type": "stream",
     "text": [
      "(648, 21) Index(['name', 'tempo', 'beats', 'chroma_stft', 'rmse', 'spec_cent', 'spec_bw',\n",
      "       'rolloff', 'zcr', 'mfcc_1', 'mfcc_2', 'mfcc_3', 'mfcc_4', 'mfcc_5',\n",
      "       'mfcc_6', 'mfcc_7', 'mfcc_8', 'mfcc_9', 'mfcc_10', 'mfcc_11', 'label'],\n",
      "      dtype='object')\n"
     ]
    },
    {
     "data": {
      "text/html": [
       "<div>\n",
       "<style scoped>\n",
       "    .dataframe tbody tr th:only-of-type {\n",
       "        vertical-align: middle;\n",
       "    }\n",
       "\n",
       "    .dataframe tbody tr th {\n",
       "        vertical-align: top;\n",
       "    }\n",
       "\n",
       "    .dataframe thead th {\n",
       "        text-align: right;\n",
       "    }\n",
       "</style>\n",
       "<table border=\"1\" class=\"dataframe\">\n",
       "  <thead>\n",
       "    <tr style=\"text-align: right;\">\n",
       "      <th></th>\n",
       "      <th>name</th>\n",
       "      <th>tempo</th>\n",
       "      <th>beats</th>\n",
       "      <th>chroma_stft</th>\n",
       "      <th>rmse</th>\n",
       "      <th>spec_cent</th>\n",
       "      <th>spec_bw</th>\n",
       "      <th>rolloff</th>\n",
       "      <th>zcr</th>\n",
       "      <th>mfcc_1</th>\n",
       "      <th>...</th>\n",
       "      <th>mfcc_3</th>\n",
       "      <th>mfcc_4</th>\n",
       "      <th>mfcc_5</th>\n",
       "      <th>mfcc_6</th>\n",
       "      <th>mfcc_7</th>\n",
       "      <th>mfcc_8</th>\n",
       "      <th>mfcc_9</th>\n",
       "      <th>mfcc_10</th>\n",
       "      <th>mfcc_11</th>\n",
       "      <th>label</th>\n",
       "    </tr>\n",
       "  </thead>\n",
       "  <tbody>\n",
       "    <tr>\n",
       "      <th>0</th>\n",
       "      <td>Amilcare Ponchielli - Dance of the Hours.mp3</td>\n",
       "      <td>130.813953</td>\n",
       "      <td>394</td>\n",
       "      <td>0.292340</td>\n",
       "      <td>0.042382</td>\n",
       "      <td>1637.235974</td>\n",
       "      <td>2228.712920</td>\n",
       "      <td>2925.815507</td>\n",
       "      <td>0.038808</td>\n",
       "      <td>164.360115</td>\n",
       "      <td>...</td>\n",
       "      <td>4.918759</td>\n",
       "      <td>4.767190</td>\n",
       "      <td>3.798379</td>\n",
       "      <td>-2.531283</td>\n",
       "      <td>-0.907902</td>\n",
       "      <td>-2.287565</td>\n",
       "      <td>0.083561</td>\n",
       "      <td>-2.888623</td>\n",
       "      <td>-3.455121</td>\n",
       "      <td>Classical</td>\n",
       "    </tr>\n",
       "    <tr>\n",
       "      <th>1</th>\n",
       "      <td>Rossini - William Tell Overture - Final.mp3</td>\n",
       "      <td>160.714286</td>\n",
       "      <td>443</td>\n",
       "      <td>0.388742</td>\n",
       "      <td>0.057814</td>\n",
       "      <td>1357.984086</td>\n",
       "      <td>1875.937831</td>\n",
       "      <td>2628.860882</td>\n",
       "      <td>0.028938</td>\n",
       "      <td>165.760189</td>\n",
       "      <td>...</td>\n",
       "      <td>22.165190</td>\n",
       "      <td>5.195708</td>\n",
       "      <td>9.989042</td>\n",
       "      <td>-3.362946</td>\n",
       "      <td>3.713702</td>\n",
       "      <td>-3.914152</td>\n",
       "      <td>-1.442259</td>\n",
       "      <td>-3.176913</td>\n",
       "      <td>-2.756510</td>\n",
       "      <td>Classical</td>\n",
       "    </tr>\n",
       "    <tr>\n",
       "      <th>2</th>\n",
       "      <td>Jean Sibelius - Finlandia.mp3</td>\n",
       "      <td>139.674831</td>\n",
       "      <td>364</td>\n",
       "      <td>0.395700</td>\n",
       "      <td>0.044656</td>\n",
       "      <td>1695.655814</td>\n",
       "      <td>2091.846492</td>\n",
       "      <td>3243.376221</td>\n",
       "      <td>0.043351</td>\n",
       "      <td>167.199168</td>\n",
       "      <td>...</td>\n",
       "      <td>9.633350</td>\n",
       "      <td>2.786427</td>\n",
       "      <td>4.010491</td>\n",
       "      <td>-8.536038</td>\n",
       "      <td>0.308073</td>\n",
       "      <td>-8.201940</td>\n",
       "      <td>-5.903670</td>\n",
       "      <td>-3.534558</td>\n",
       "      <td>-4.193664</td>\n",
       "      <td>Classical</td>\n",
       "    </tr>\n",
       "  </tbody>\n",
       "</table>\n",
       "<p>3 rows × 21 columns</p>\n",
       "</div>"
      ],
      "text/plain": [
       "                                           name       tempo  beats  \\\n",
       "0  Amilcare Ponchielli - Dance of the Hours.mp3  130.813953    394   \n",
       "1   Rossini - William Tell Overture - Final.mp3  160.714286    443   \n",
       "2                 Jean Sibelius - Finlandia.mp3  139.674831    364   \n",
       "\n",
       "   chroma_stft      rmse    spec_cent      spec_bw      rolloff       zcr  \\\n",
       "0     0.292340  0.042382  1637.235974  2228.712920  2925.815507  0.038808   \n",
       "1     0.388742  0.057814  1357.984086  1875.937831  2628.860882  0.028938   \n",
       "2     0.395700  0.044656  1695.655814  2091.846492  3243.376221  0.043351   \n",
       "\n",
       "       mfcc_1    ...         mfcc_3    mfcc_4    mfcc_5    mfcc_6    mfcc_7  \\\n",
       "0  164.360115    ...       4.918759  4.767190  3.798379 -2.531283 -0.907902   \n",
       "1  165.760189    ...      22.165190  5.195708  9.989042 -3.362946  3.713702   \n",
       "2  167.199168    ...       9.633350  2.786427  4.010491 -8.536038  0.308073   \n",
       "\n",
       "     mfcc_8    mfcc_9   mfcc_10   mfcc_11      label  \n",
       "0 -2.287565  0.083561 -2.888623 -3.455121  Classical  \n",
       "1 -3.914152 -1.442259 -3.176913 -2.756510  Classical  \n",
       "2 -8.201940 -5.903670 -3.534558 -4.193664  Classical  \n",
       "\n",
       "[3 rows x 21 columns]"
      ]
     },
     "execution_count": 3,
     "metadata": {},
     "output_type": "execute_result"
    }
   ],
   "source": [
    "df = pd.read_csv('data.csv', index_col='Unnamed: 0')\n",
    "print(df.shape, df.columns)\n",
    "df.head(3)"
   ]
  },
  {
   "cell_type": "code",
   "execution_count": null,
   "metadata": {},
   "outputs": [],
   "source": []
  },
  {
   "cell_type": "code",
   "execution_count": 4,
   "metadata": {},
   "outputs": [],
   "source": [
    "X = df.drop(['name', 'label'], axis=1).astype(float)\n",
    "genre_map = {genre:i for i, genre in enumerate(df.label.unique())}\n",
    "y = df.label.map(genre_map)\n",
    "X_train, X_test, y_train, y_test = train_test_split(X, y, test_size = 0.2, random_state=0)"
   ]
  },
  {
   "cell_type": "code",
   "execution_count": 5,
   "metadata": {},
   "outputs": [
    {
     "data": {
      "text/plain": [
       "StandardScaler(copy=True, with_mean=True, with_std=True)"
      ]
     },
     "execution_count": 5,
     "metadata": {},
     "output_type": "execute_result"
    }
   ],
   "source": [
    "scaler = StandardScaler()\n",
    "scaler.fit(X_train)"
   ]
  },
  {
   "cell_type": "code",
   "execution_count": 6,
   "metadata": {},
   "outputs": [],
   "source": [
    "X_train_scaled = scaler.transform(X_train)\n",
    "X_test_scaled = scaler.transform(X_test)"
   ]
  },
  {
   "cell_type": "code",
   "execution_count": 7,
   "metadata": {},
   "outputs": [
    {
     "data": {
      "text/plain": [
       "LogisticRegression(C=1.0, class_weight=None, dual=False, fit_intercept=True,\n",
       "          intercept_scaling=1, max_iter=100, multi_class='multinomial',\n",
       "          n_jobs=-1, penalty='l2', random_state=None, solver='lbfgs',\n",
       "          tol=0.0001, verbose=0, warm_start=False)"
      ]
     },
     "execution_count": 7,
     "metadata": {},
     "output_type": "execute_result"
    }
   ],
   "source": [
    "logreg = LogisticRegression(n_jobs=-1, solver='lbfgs', multi_class='multinomial')\n",
    "logreg.fit(X_train_scaled, y_train)"
   ]
  },
  {
   "cell_type": "code",
   "execution_count": 8,
   "metadata": {},
   "outputs": [],
   "source": [
    "pred_probas = logreg.predict_proba(X_test_scaled)\n",
    "logreg_preds = logreg.predict(X_test_scaled)"
   ]
  },
  {
   "cell_type": "code",
   "execution_count": 9,
   "metadata": {},
   "outputs": [
    {
     "name": "stdout",
     "output_type": "stream",
     "text": [
      "{'Classical': 0, 'Electronic': 1, 'Metal': 2, 'Hip_Hop': 3, 'Country': 4, 'Jazz': 5}\n",
      "[[19  0  0  0  0  2]\n",
      " [ 0 10  0  5  0  1]\n",
      " [ 0  0 22  1  2  1]\n",
      " [ 0  4  1 15  1  0]\n",
      " [ 0  3  1  1 15  2]\n",
      " [ 2  0  0  1  4 17]]\n"
     ]
    },
    {
     "data": {
      "image/png": "[encoded data removed]",
      "text/plain": [
       "<Figure size 432x288 with 1 Axes>"
      ]
     },
     "metadata": {
      "needs_background": "light"
     },
     "output_type": "display_data"
    }
   ],
   "source": [
    "plt.imshow(confusion_matrix(y_test, logreg_preds), cmap='Oranges')\n",
    "print(genre_map)\n",
    "print(confusion_matrix(y_test, logreg_preds))"
   ]
  },
  {
   "cell_type": "code",
   "execution_count": 10,
   "metadata": {},
   "outputs": [
    {
     "data": {
      "text/plain": [
       "0.24615384615384617"
      ]
     },
     "execution_count": 10,
     "metadata": {},
     "output_type": "execute_result"
    }
   ],
   "source": [
    "hamming_loss(y_test, logreg_preds)"
   ]
  },
  {
   "cell_type": "code",
   "execution_count": 11,
   "metadata": {},
   "outputs": [
    {
     "data": {
      "text/plain": [
       "0.24615384615384617"
      ]
     },
     "execution_count": 11,
     "metadata": {},
     "output_type": "execute_result"
    }
   ],
   "source": [
    "zero_one_loss(y_test, logreg_preds)"
   ]
  },
  {
   "cell_type": "code",
   "execution_count": 12,
   "metadata": {},
   "outputs": [
    {
     "data": {
      "text/plain": [
       "0.7538461538461538"
      ]
     },
     "execution_count": 12,
     "metadata": {},
     "output_type": "execute_result"
    }
   ],
   "source": [
    "jaccard_similarity_score(y_test, logreg_preds)"
   ]
  },
  {
   "cell_type": "code",
   "execution_count": 13,
   "metadata": {},
   "outputs": [
    {
     "data": {
      "text/plain": [
       "BaggingClassifier(base_estimator=None, bootstrap=True,\n",
       "         bootstrap_features=False, max_features=1.0, max_samples=1.0,\n",
       "         n_estimators=10, n_jobs=-1, oob_score=False, random_state=None,\n",
       "         verbose=0, warm_start=False)"
      ]
     },
     "execution_count": 13,
     "metadata": {},
     "output_type": "execute_result"
    }
   ],
   "source": [
    "bag_clf = BaggingClassifier(n_jobs=-1)\n",
    "bag_clf.fit(X_train_scaled, y_train)"
   ]
  },
  {
   "cell_type": "code",
   "execution_count": 14,
   "metadata": {},
   "outputs": [],
   "source": [
    "bag_preds = bag_clf.predict(X_test_scaled)"
   ]
  },
  {
   "cell_type": "code",
   "execution_count": 15,
   "metadata": {},
   "outputs": [
    {
     "name": "stdout",
     "output_type": "stream",
     "text": [
      "{'Classical': 0, 'Electronic': 1, 'Metal': 2, 'Hip_Hop': 3, 'Country': 4, 'Jazz': 5}\n",
      "[[13  0  0  0  0  8]\n",
      " [ 0  9  0  5  1  1]\n",
      " [ 0  1 18  2  5  0]\n",
      " [ 0  2  4 13  1  1]\n",
      " [ 0  3  4  3 10  2]\n",
      " [ 2  0  0  0  1 21]]\n",
      "hamming: 0.35384615384615387, zol: 0.3538461538461538\n"
     ]
    },
    {
     "data": {
      "image/png": "[encoded data removed]",
      "text/plain": [
       "<Figure size 432x288 with 1 Axes>"
      ]
     },
     "metadata": {
      "needs_background": "light"
     },
     "output_type": "display_data"
    }
   ],
   "source": [
    "plt.imshow(confusion_matrix(y_test, bag_preds), cmap='Reds')\n",
    "print(genre_map)\n",
    "print(confusion_matrix(y_test, bag_preds))\n",
    "print(f'hamming: {hamming_loss(y_test, bag_preds)}, zol: {zero_one_loss(y_test, bag_preds)}')"
   ]
  },
  {
   "cell_type": "code",
   "execution_count": 16,
   "metadata": {},
   "outputs": [
    {
     "data": {
      "text/plain": [
       "0.6461538461538462"
      ]
     },
     "execution_count": 16,
     "metadata": {},
     "output_type": "execute_result"
    }
   ],
   "source": [
    "jaccard_similarity_score(y_test,bag_preds)"
   ]
  },
  {
   "cell_type": "code",
   "execution_count": 17,
   "metadata": {},
   "outputs": [],
   "source": [
    "pca = PCA(n_components=4)"
   ]
  },
  {
   "cell_type": "code",
   "execution_count": 18,
   "metadata": {},
   "outputs": [],
   "source": [
    "reduced_X_train = pca.fit_transform(X_train_scaled)\n",
    "reduced_X_test = pca.transform(X_test_scaled)"
   ]
  },
  {
   "cell_type": "code",
   "execution_count": 19,
   "metadata": {},
   "outputs": [],
   "source": [
    "gb_trees = GradientBoostingClassifier()"
   ]
  },
  {
   "cell_type": "code",
   "execution_count": 20,
   "metadata": {},
   "outputs": [
    {
     "data": {
      "text/plain": [
       "GradientBoostingClassifier(criterion='friedman_mse', init=None,\n",
       "              learning_rate=0.1, loss='deviance', max_depth=3,\n",
       "              max_features=None, max_leaf_nodes=None,\n",
       "              min_impurity_decrease=0.0, min_impurity_split=None,\n",
       "              min_samples_leaf=1, min_samples_split=2,\n",
       "              min_weight_fraction_leaf=0.0, n_estimators=100,\n",
       "              n_iter_no_change=None, presort='auto', random_state=None,\n",
       "              subsample=1.0, tol=0.0001, validation_fraction=0.1,\n",
       "              verbose=0, warm_start=False)"
      ]
     },
     "execution_count": 20,
     "metadata": {},
     "output_type": "execute_result"
    }
   ],
   "source": [
    "gb_trees.fit(X_train_scaled, y_train)"
   ]
  },
  {
   "cell_type": "code",
   "execution_count": 21,
   "metadata": {},
   "outputs": [],
   "source": [
    "gbt_preds = gb_trees.predict(X_test_scaled)"
   ]
  },
  {
   "cell_type": "code",
   "execution_count": 22,
   "metadata": {},
   "outputs": [
    {
     "name": "stdout",
     "output_type": "stream",
     "text": [
      "{'Classical': 0, 'Electronic': 1, 'Metal': 2, 'Hip_Hop': 3, 'Country': 4, 'Jazz': 5}\n",
      "[[17  0  0  0  0  4]\n",
      " [ 0  7  1  6  0  2]\n",
      " [ 0  0 18  2  4  2]\n",
      " [ 0  2  0 18  1  0]\n",
      " [ 0  3  2  2 13  2]\n",
      " [ 1  0  0  0  5 18]]\n",
      "hamming: 0.3, zol: 0.30000000000000004\n"
     ]
    },
    {
     "data": {
      "image/png": "[encoded data removed]",
      "text/plain": [
       "<Figure size 432x288 with 1 Axes>"
      ]
     },
     "metadata": {
      "needs_background": "light"
     },
     "output_type": "display_data"
    }
   ],
   "source": [
    "plt.imshow(confusion_matrix(y_test, gbt_preds), cmap='Blues')\n",
    "print(genre_map)\n",
    "print(confusion_matrix(y_test, gbt_preds))\n",
    "print(f'hamming: {hamming_loss(y_test, gbt_preds)}, zol: {zero_one_loss(y_test, gbt_preds)}')"
   ]
  },
  {
   "cell_type": "code",
   "execution_count": 23,
   "metadata": {},
   "outputs": [
    {
     "data": {
      "text/plain": [
       "0.7"
      ]
     },
     "execution_count": 23,
     "metadata": {},
     "output_type": "execute_result"
    }
   ],
   "source": [
    "jaccard_similarity_score(y_test, gbt_preds)"
   ]
  },
  {
   "cell_type": "code",
   "execution_count": 24,
   "metadata": {},
   "outputs": [],
   "source": [
    "svc = SVC(probability=True)\n",
    "svc.fit(X_train_scaled, y_train)\n",
    "svc_preds = svc.predict(X_test_scaled)"
   ]
  },
  {
   "cell_type": "code",
   "execution_count": 25,
   "metadata": {},
   "outputs": [
    {
     "name": "stdout",
     "output_type": "stream",
     "text": [
      "{'Classical': 0, 'Electronic': 1, 'Metal': 2, 'Hip_Hop': 3, 'Country': 4, 'Jazz': 5}\n",
      "[[20  0  0  0  0  1]\n",
      " [ 0 12  1  3  0  0]\n",
      " [ 0  0 18  0  4  4]\n",
      " [ 0  3  1 16  0  1]\n",
      " [ 0  3  1  1 16  1]\n",
      " [ 1  0  0  0  3 20]]\n",
      "hamming: 0.2153846153846154, zol: 0.2153846153846154\n"
     ]
    },
    {
     "data": {
      "image/png": "[encoded data removed]",
      "text/plain": [
       "<Figure size 432x288 with 1 Axes>"
      ]
     },
     "metadata": {
      "needs_background": "light"
     },
     "output_type": "display_data"
    }
   ],
   "source": [
    "plt.imshow(confusion_matrix(y_test, svc_preds), cmap='gray_r')\n",
    "print(genre_map)\n",
    "print(confusion_matrix(y_test, svc_preds))\n",
    "print(f'hamming: {hamming_loss(y_test, svc_preds)}, zol: {zero_one_loss(y_test, svc_preds)}')"
   ]
  },
  {
   "cell_type": "code",
   "execution_count": 26,
   "metadata": {},
   "outputs": [
    {
     "data": {
      "text/plain": [
       "0.7846153846153846"
      ]
     },
     "execution_count": 26,
     "metadata": {},
     "output_type": "execute_result"
    }
   ],
   "source": [
    "jaccard_similarity_score(y_test, svc_preds)"
   ]
  },
  {
   "cell_type": "code",
   "execution_count": 50,
   "metadata": {},
   "outputs": [
    {
     "name": "stdout",
     "output_type": "stream",
     "text": [
      "{'Classical': 0, 'Electronic': 1, 'Metal': 2, 'Hip_Hop': 3, 'Country': 4, 'Jazz': 5}\n"
     ]
    },
    {
     "data": {
      "text/plain": [
       "array([5, 2, 2, 4, 4, 4, 5, 2, 5, 0, 3, 5, 1, 2, 3, 2, 2, 5, 1, 3, 0, 2,\n",
       "       3, 1, 3, 4, 2, 3, 2, 5, 0, 4, 5, 4, 2, 4, 4, 0, 1, 5, 3, 5, 1, 2,\n",
       "       5, 5, 3, 5, 4, 5, 1, 3, 0, 0, 3, 2, 2, 2, 4, 0, 1, 0, 5, 5, 0, 0,\n",
       "       0, 2, 5, 3, 4, 5, 2, 4, 0, 1, 3, 3, 5, 2, 0, 4, 5, 5, 3, 3, 3, 2,\n",
       "       4, 0, 1, 4, 1, 1, 1, 1, 0, 0, 0, 1, 5, 5, 4, 0, 4, 4, 0, 4, 3, 5,\n",
       "       0, 0, 3, 1, 5, 1, 5, 1, 4, 2, 5, 4, 3, 1, 2, 3, 4, 5, 4, 2])"
      ]
     },
     "execution_count": 50,
     "metadata": {},
     "output_type": "execute_result"
    }
   ],
   "source": [
    "print(genre_map)\n",
    "svc_preds"
   ]
  },
  {
   "cell_type": "code",
   "execution_count": 51,
   "metadata": {},
   "outputs": [],
   "source": [
    "import pickle"
   ]
  },
  {
   "cell_type": "code",
   "execution_count": 52,
   "metadata": {},
   "outputs": [],
   "source": [
    "with open('svc_model.pkl','wb') as f:\n",
    "    pickle.dump(svc, f)"
   ]
  },
  {
   "cell_type": "code",
   "execution_count": null,
   "metadata": {},
   "outputs": [],
   "source": []
  },
  {
   "cell_type": "code",
   "execution_count": null,
   "metadata": {},
   "outputs": [],
   "source": []
  },
  {
   "cell_type": "code",
   "execution_count": null,
   "metadata": {},
   "outputs": [],
   "source": []
  },
  {
   "cell_type": "code",
   "execution_count": null,
   "metadata": {},
   "outputs": [],
   "source": []
  },
  {
   "cell_type": "code",
   "execution_count": null,
   "metadata": {},
   "outputs": [],
   "source": []
  }
 ],
 "metadata": {
  "kernelspec": {
   "display_name": "learn-env",
   "language": "python",
   "name": "learn-env"
  },
  "language_info": {
   "codemirror_mode": {
    "name": "ipython",
    "version": 3
   },
   "file_extension": ".py",
   "mimetype": "text/x-python",
   "name": "python",
   "nbconvert_exporter": "python",
   "pygments_lexer": "ipython3",
   "version": "3.6.6"
  }
 },
 "nbformat": 4,
 "nbformat_minor": 2
}
